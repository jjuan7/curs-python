{
  "nbformat": 4,
  "nbformat_minor": 0,
  "metadata": {
    "colab": {
      "provenance": []
    },
    "kernelspec": {
      "name": "python3",
      "display_name": "Python 3"
    },
    "language_info": {
      "name": "python"
    }
  },
  "cells": [
    {
      "cell_type": "markdown",
      "source": [
        "### **PART 1**"
      ],
      "metadata": {
        "id": "zdAQ3twGYado"
      }
    },
    {
      "cell_type": "markdown",
      "source": [
        "**Exercici 1**\n",
        "\n",
        "Crea una llista dels messos de l'any en trimestres."
      ],
      "metadata": {
        "id": "upBVO1i491P6"
      }
    },
    {
      "cell_type": "code",
      "source": [
        "any =[['gener', 'febrer','març'],['abril','maig','juny'],['juliol','agost', 'setembre'],['octubre','novembre','dessembre']]"
      ],
      "metadata": {
        "id": "_41mTWCD-GU0"
      },
      "execution_count": null,
      "outputs": []
    },
    {
      "cell_type": "markdown",
      "source": [
        "**Exercici 2**"
      ],
      "metadata": {
        "id": "UmJcVi-OALT3"
      }
    },
    {
      "cell_type": "markdown",
      "source": [
        "a.Codi per accedir al segon mes del 2 trimestre"
      ],
      "metadata": {
        "id": "hEQw2MQP_Ot1"
      }
    },
    {
      "cell_type": "code",
      "source": [
        "any[1][1]"
      ],
      "metadata": {
        "colab": {
          "base_uri": "https://localhost:8080/",
          "height": 35
        },
        "id": "uUOr2H5F_IHD",
        "outputId": "0d6b1ca9-8c32-420d-a346-cb575e091bf1"
      },
      "execution_count": null,
      "outputs": [
        {
          "output_type": "execute_result",
          "data": {
            "text/plain": [
              "'maig'"
            ],
            "application/vnd.google.colaboratory.intrinsic+json": {
              "type": "string"
            }
          },
          "metadata": {},
          "execution_count": 10
        }
      ]
    },
    {
      "cell_type": "markdown",
      "source": [
        "b.Mesos del 1r trimestre"
      ],
      "metadata": {
        "id": "N714hc7L_9qx"
      }
    },
    {
      "cell_type": "code",
      "source": [
        "any[0]"
      ],
      "metadata": {
        "colab": {
          "base_uri": "https://localhost:8080/"
        },
        "id": "9nQnBtLKADAv",
        "outputId": "f0ba298f-70e5-42e5-83c2-b47ac9f1dd63"
      },
      "execution_count": null,
      "outputs": [
        {
          "output_type": "execute_result",
          "data": {
            "text/plain": [
              "['gener', 'febrer', 'març']"
            ]
          },
          "metadata": {},
          "execution_count": 11
        }
      ]
    },
    {
      "cell_type": "markdown",
      "source": [
        "c.Setembre octubre"
      ],
      "metadata": {
        "id": "usWwo18SBC-l"
      }
    },
    {
      "cell_type": "code",
      "source": [
        "print(\"Els messos demanats són:\", any[2][2], any[3][0] )"
      ],
      "metadata": {
        "id": "izB247dZBFgs",
        "colab": {
          "base_uri": "https://localhost:8080/"
        },
        "outputId": "24e87899-8f21-4369-94aa-6ed72c2f6c95"
      },
      "execution_count": null,
      "outputs": [
        {
          "output_type": "stream",
          "name": "stdout",
          "text": [
            "Els messos demanats són: setembre octubre\n"
          ]
        }
      ]
    },
    {
      "cell_type": "markdown",
      "source": [
        "**Exercici 3**"
      ],
      "metadata": {
        "id": "TLdW3l5IBsuO"
      }
    },
    {
      "cell_type": "markdown",
      "source": [
        "Llista amb nombres desordenats"
      ],
      "metadata": {
        "id": "rC78aOVSBv6F"
      }
    },
    {
      "cell_type": "code",
      "source": [
        "nombres = [0,5,2,8,4,2,3,9,10,11,15,20,21,35,56,12,4,56,23,2,89,57]"
      ],
      "metadata": {
        "id": "0yv6oaL-By4o"
      },
      "execution_count": null,
      "outputs": []
    },
    {
      "cell_type": "markdown",
      "source": [
        "Quants nombres hi ha ?"
      ],
      "metadata": {
        "id": "Zl7jKyz1CGvA"
      }
    },
    {
      "cell_type": "code",
      "source": [
        "print(\"El total de monres que hi ha a la llista és: \", len(nombres))"
      ],
      "metadata": {
        "colab": {
          "base_uri": "https://localhost:8080/"
        },
        "id": "qGQub3cGCJZJ",
        "outputId": "6f44330e-0e68-42de-b3f9-d459849d56af"
      },
      "execution_count": null,
      "outputs": [
        {
          "output_type": "stream",
          "name": "stdout",
          "text": [
            "El total de monres que hi ha a la llista és:  22\n"
          ]
        }
      ]
    },
    {
      "cell_type": "markdown",
      "source": [
        "Quantes vegades es repeteix el nombre 3 ?"
      ],
      "metadata": {
        "id": "PJyBd5oZDDSv"
      }
    },
    {
      "cell_type": "code",
      "source": [
        "nombres.count(3)"
      ],
      "metadata": {
        "colab": {
          "base_uri": "https://localhost:8080/"
        },
        "id": "TFzUVJqHD3h9",
        "outputId": "4ec03783-8de2-46c3-81c9-d143e281bd4c"
      },
      "execution_count": null,
      "outputs": [
        {
          "output_type": "execute_result",
          "data": {
            "text/plain": [
              "1"
            ]
          },
          "metadata": {},
          "execution_count": 29
        }
      ]
    },
    {
      "cell_type": "code",
      "source": [
        "print('El nombre 3 es repeteix ',nombres.count(3), ' vedades')"
      ],
      "metadata": {
        "colab": {
          "base_uri": "https://localhost:8080/"
        },
        "id": "jjT-mxqlDZx0",
        "outputId": "9c292665-cfa9-4a39-eb55-cf73a9c615c9"
      },
      "execution_count": null,
      "outputs": [
        {
          "output_type": "stream",
          "name": "stdout",
          "text": [
            "El nombre 3 es repeteix  1  vedades\n"
          ]
        }
      ]
    },
    {
      "cell_type": "markdown",
      "source": [
        "Quin és el número més gran ?"
      ],
      "metadata": {
        "id": "kbyPh5g6R9sC"
      }
    },
    {
      "cell_type": "code",
      "source": [
        "max(nombres)"
      ],
      "metadata": {
        "colab": {
          "base_uri": "https://localhost:8080/"
        },
        "id": "47Zv5SUdSA71",
        "outputId": "6294908c-9b91-452e-a191-64c659a2b488"
      },
      "execution_count": null,
      "outputs": [
        {
          "output_type": "execute_result",
          "data": {
            "text/plain": [
              "89"
            ]
          },
          "metadata": {},
          "execution_count": 48
        }
      ]
    },
    {
      "cell_type": "markdown",
      "source": [
        "Quins són els 3 nombres més petits de la llista?"
      ],
      "metadata": {
        "id": "cIqv90nLSKdk"
      }
    },
    {
      "cell_type": "code",
      "source": [
        "sorted(nombres)[:3]"
      ],
      "metadata": {
        "colab": {
          "base_uri": "https://localhost:8080/"
        },
        "id": "wpQOHRjPSJ0D",
        "outputId": "a77f67c7-d2c7-493f-cdb9-24f77b181272"
      },
      "execution_count": null,
      "outputs": [
        {
          "output_type": "execute_result",
          "data": {
            "text/plain": [
              "[0, 2, 2]"
            ]
          },
          "metadata": {},
          "execution_count": 52
        }
      ]
    },
    {
      "cell_type": "markdown",
      "source": [
        "Rango de la llista"
      ],
      "metadata": {
        "id": "NtrgMqDgO5bY"
      }
    },
    {
      "cell_type": "code",
      "source": [
        "print( 'El rango de la llista és:', range(max(nombres),min(nombres)))"
      ],
      "metadata": {
        "colab": {
          "base_uri": "https://localhost:8080/"
        },
        "id": "6UoMoKHWPwF8",
        "outputId": "ac2c2b30-fe70-491f-949f-8834a3c05e88"
      },
      "execution_count": null,
      "outputs": [
        {
          "output_type": "stream",
          "name": "stdout",
          "text": [
            "El rango de la llista és: range(89, 0)\n"
          ]
        }
      ]
    },
    {
      "cell_type": "markdown",
      "source": [
        "**Exercici 4**\n",
        "Creació del ddiccionari"
      ],
      "metadata": {
        "id": "sq7Vo2PdTNJG"
      }
    },
    {
      "cell_type": "code",
      "source": [
        "compra={'Pomes':{'Qty':5,'€':0.42},'Peres':{'Qty':3,'€':0.66}}"
      ],
      "metadata": {
        "id": "O9CxjI3bTm-R"
      },
      "execution_count": null,
      "outputs": []
    },
    {
      "cell_type": "markdown",
      "source": [
        "Afegir un valor al diccionari"
      ],
      "metadata": {
        "id": "1ma8H29JVGTb"
      }
    },
    {
      "cell_type": "code",
      "source": [
        "compra['Freses']={'Qty':10,'€':1.25}"
      ],
      "metadata": {
        "id": "_oHitfj2VJOa"
      },
      "execution_count": null,
      "outputs": []
    },
    {
      "cell_type": "markdown",
      "source": [
        "Preu total de les peres"
      ],
      "metadata": {
        "id": "EaR_RasWVjYX"
      }
    },
    {
      "cell_type": "code",
      "source": [
        "print ('El preu total de les peres és :', compra['Peres']['Qty']* compra['Peres']['€'])"
      ],
      "metadata": {
        "colab": {
          "base_uri": "https://localhost:8080/"
        },
        "id": "_qF9YnBtVnIx",
        "outputId": "f6e0a9eb-4d6c-445e-967c-aa6eb26e40f3"
      },
      "execution_count": null,
      "outputs": [
        {
          "output_type": "stream",
          "name": "stdout",
          "text": [
            "El preu total de les peres és : 1.98\n"
          ]
        }
      ]
    },
    {
      "cell_type": "markdown",
      "source": [
        "Quantes fruites em comptat en total ?"
      ],
      "metadata": {
        "id": "2Q9-4ylmW1cz"
      }
    },
    {
      "cell_type": "code",
      "source": [
        " a= sum(item['Qty'] for item in compra.values())\n",
        " print ('Em comprat:',a)"
      ],
      "metadata": {
        "colab": {
          "base_uri": "https://localhost:8080/"
        },
        "id": "EMXu74waW66X",
        "outputId": "3512230c-fac8-4313-a243-e855aae68b27"
      },
      "execution_count": null,
      "outputs": [
        {
          "output_type": "stream",
          "name": "stdout",
          "text": [
            "Em comprat: 18\n"
          ]
        }
      ]
    },
    {
      "cell_type": "markdown",
      "source": [
        "Quina és la fruita més cara ?"
      ],
      "metadata": {
        "id": "gDOFDDjkYOoJ"
      }
    },
    {
      "cell_type": "code",
      "source": [
        " max(compra, key=lambda fruta: compra[fruta]['€'])"
      ],
      "metadata": {
        "colab": {
          "base_uri": "https://localhost:8080/",
          "height": 35
        },
        "id": "I-yCgP8vYRLl",
        "outputId": "2249933d-2e91-4804-b0c1-cbe5336e8b92"
      },
      "execution_count": null,
      "outputs": [
        {
          "output_type": "execute_result",
          "data": {
            "text/plain": [
              "'Freses'"
            ],
            "application/vnd.google.colaboratory.intrinsic+json": {
              "type": "string"
            }
          },
          "metadata": {},
          "execution_count": 65
        }
      ]
    },
    {
      "cell_type": "markdown",
      "source": [
        "# PART 2"
      ],
      "metadata": {
        "id": "SzU0TDx8Yjtp"
      }
    },
    {
      "cell_type": "markdown",
      "source": [
        "**Exercici 1**\n",
        "\n",
        "Classificació per notes"
      ],
      "metadata": {
        "id": "69bjFVqHYxZ5"
      }
    },
    {
      "cell_type": "code",
      "source": [
        "def notes(a):\n",
        "    if a < 5:\n",
        "        return 'Suspès'\n",
        "    elif a < 7:\n",
        "        return 'Aprovat'\n",
        "    elif a < 9:\n",
        "        return 'Notable'\n",
        "    else:\n",
        "        return 'Excel·lent'\n"
      ],
      "metadata": {
        "id": "jQ07DOuuY2Dq"
      },
      "execution_count": null,
      "outputs": []
    },
    {
      "cell_type": "code",
      "source": [
        "notes(10)"
      ],
      "metadata": {
        "colab": {
          "base_uri": "https://localhost:8080/",
          "height": 35
        },
        "id": "wjXoYeZug7tR",
        "outputId": "f59ab9b1-9d39-4484-d1d9-efd16af5ad34"
      },
      "execution_count": null,
      "outputs": [
        {
          "output_type": "execute_result",
          "data": {
            "text/plain": [
              "'Excel·lent'"
            ],
            "application/vnd.google.colaboratory.intrinsic+json": {
              "type": "string"
            }
          },
          "metadata": {},
          "execution_count": 94
        }
      ]
    },
    {
      "cell_type": "code",
      "source": [
        "notes(8)"
      ],
      "metadata": {
        "colab": {
          "base_uri": "https://localhost:8080/",
          "height": 35
        },
        "id": "yY1-0M3DhBJk",
        "outputId": "bc699b9c-56c7-4c2e-d2a7-3765c58554bb"
      },
      "execution_count": null,
      "outputs": [
        {
          "output_type": "execute_result",
          "data": {
            "text/plain": [
              "'Notable'"
            ],
            "application/vnd.google.colaboratory.intrinsic+json": {
              "type": "string"
            }
          },
          "metadata": {},
          "execution_count": 95
        }
      ]
    },
    {
      "cell_type": "code",
      "source": [
        "notes(4)"
      ],
      "metadata": {
        "colab": {
          "base_uri": "https://localhost:8080/",
          "height": 35
        },
        "id": "t7Z_7EiihDsr",
        "outputId": "d650f944-cae8-465a-8aa5-0bd707d56928"
      },
      "execution_count": null,
      "outputs": [
        {
          "output_type": "execute_result",
          "data": {
            "text/plain": [
              "'Suspès'"
            ],
            "application/vnd.google.colaboratory.intrinsic+json": {
              "type": "string"
            }
          },
          "metadata": {},
          "execution_count": 96
        }
      ]
    },
    {
      "cell_type": "markdown",
      "source": [
        "**Exercici 2**\n",
        "\n",
        "Crea una funció que et pregunti 2 numeros i et digui si el primes es mes gran ,si el segon és més gran o tots dos son iguals"
      ],
      "metadata": {
        "id": "fHAmj4_6hpXB"
      }
    },
    {
      "cell_type": "code",
      "source": [
        "def comparar_numeros():\n",
        "    num1 = float(input(\"Indica el primer nombre: \"))\n",
        "    num2 = float(input(\"Indica el primer nombre: \"))\n",
        "\n",
        "    if num1 > num2:\n",
        "        return 'El primer nombre', num1,' és més gran que el segon nombre ',num2\n",
        "    elif num2 > num1:\n",
        "        return 'El primer nombre', num1 ,' és més petit que el segon nombre ',num2\n",
        "    else:\n",
        "        return 'Els dos números són iguals.'\n",
        "\n",
        "\n"
      ],
      "metadata": {
        "id": "s_9ZM_bJhxIX"
      },
      "execution_count": null,
      "outputs": []
    },
    {
      "cell_type": "code",
      "source": [
        "comparar_numeros()"
      ],
      "metadata": {
        "colab": {
          "base_uri": "https://localhost:8080/"
        },
        "id": "exM56PTNkJKv",
        "outputId": "6f438276-c208-4037-c91c-ca751bddd1eb"
      },
      "execution_count": null,
      "outputs": [
        {
          "name": "stdout",
          "output_type": "stream",
          "text": [
            "Indica el primer nombre: 450\n",
            "Indica el primer nombre: 45\n"
          ]
        },
        {
          "output_type": "execute_result",
          "data": {
            "text/plain": [
              "('El primer nombre', 450.0, ' és més gran que el segon nombre ', 45.0)"
            ]
          },
          "metadata": {},
          "execution_count": 106
        }
      ]
    },
    {
      "cell_type": "code",
      "source": [
        "comparar_numeros()\n"
      ],
      "metadata": {
        "colab": {
          "base_uri": "https://localhost:8080/",
          "height": 70
        },
        "id": "MgJJdoN6kQbG",
        "outputId": "e059a566-43ee-4dda-aab8-37b23e689b1c"
      },
      "execution_count": null,
      "outputs": [
        {
          "name": "stdout",
          "output_type": "stream",
          "text": [
            "Indica el primer nombre: 100\n",
            "Indica el primer nombre: 100\n"
          ]
        },
        {
          "output_type": "execute_result",
          "data": {
            "text/plain": [
              "'Els dos números són iguals.'"
            ],
            "application/vnd.google.colaboratory.intrinsic+json": {
              "type": "string"
            }
          },
          "metadata": {},
          "execution_count": 107
        }
      ]
    },
    {
      "cell_type": "markdown",
      "source": [
        "**Exercici 3**\n",
        "\n",
        "Funció que pregunti nom i un número Si el número és cero surt missatge error en cas contrari repeteix el nom el número que li has indicat"
      ],
      "metadata": {
        "id": "YOYuwm5Bk1SI"
      }
    },
    {
      "cell_type": "code",
      "source": [
        "def repetir_nombre():\n",
        "    nombre = input(\"Quin és el teu nom : \")\n",
        "    numero = int(input(\"Indica un  número: \"))\n",
        "\n",
        "    if numero == 0:\n",
        "        return \"Error: El número no pot ser cero.\"\n",
        "    else:\n",
        "        resultat = nombre * numero\n",
        "        print(resultat)\n"
      ],
      "metadata": {
        "id": "5GOuRni_lJeF"
      },
      "execution_count": null,
      "outputs": []
    },
    {
      "cell_type": "code",
      "source": [
        "repetir_nombre()"
      ],
      "metadata": {
        "colab": {
          "base_uri": "https://localhost:8080/",
          "height": 70
        },
        "id": "A4It1Trvlip_",
        "outputId": "2a4419bb-f0cb-48a4-8142-8f6902a7b709"
      },
      "execution_count": null,
      "outputs": [
        {
          "name": "stdout",
          "output_type": "stream",
          "text": [
            "Quin és el teu nom : Jose\n",
            "Indica un  número: 0\n"
          ]
        },
        {
          "output_type": "execute_result",
          "data": {
            "text/plain": [
              "'Error: El número no pot ser cero.'"
            ],
            "application/vnd.google.colaboratory.intrinsic+json": {
              "type": "string"
            }
          },
          "metadata": {},
          "execution_count": 112
        }
      ]
    },
    {
      "cell_type": "code",
      "source": [
        "repetir_nombre()"
      ],
      "metadata": {
        "colab": {
          "base_uri": "https://localhost:8080/"
        },
        "id": "EoIhzEBPlssS",
        "outputId": "3a699a20-a594-4390-883e-6247784df8ab"
      },
      "execution_count": null,
      "outputs": [
        {
          "output_type": "stream",
          "name": "stdout",
          "text": [
            "Quin és el teu nom : Jose\n",
            "Indica un  número: 10\n",
            "JoseJoseJoseJoseJoseJoseJoseJoseJoseJose\n"
          ]
        }
      ]
    },
    {
      "cell_type": "markdown",
      "source": [
        "**Exercici 4**\n",
        "\n",
        "Crea una funció que donada una llista qualsevol et digui si es simetrica o no i si es simetrica indiqui quants elements té"
      ],
      "metadata": {
        "id": "vyFxxFBemO3a"
      }
    },
    {
      "cell_type": "code",
      "source": [
        "def simetrica(llista):\n",
        "    if llista == llista[::-1]:\n",
        "        return True, len(llista)\n",
        "    else:\n",
        "        return False, None\n",
        "\n",
        "\n"
      ],
      "metadata": {
        "id": "TubiwX2dmyM_"
      },
      "execution_count": null,
      "outputs": []
    },
    {
      "cell_type": "code",
      "source": [
        "l1 = [1, 2, 3, 4, 3, 2, 1]\n",
        "simetrica(l1)"
      ],
      "metadata": {
        "colab": {
          "base_uri": "https://localhost:8080/"
        },
        "id": "gKFcBch6nIBD",
        "outputId": "a7f377ad-70e9-4caf-9075-c9aab26a5f32"
      },
      "execution_count": null,
      "outputs": [
        {
          "output_type": "execute_result",
          "data": {
            "text/plain": [
              "(True, 7)"
            ]
          },
          "metadata": {},
          "execution_count": 116
        }
      ]
    },
    {
      "cell_type": "code",
      "source": [
        "l2 =[2,5,4,6,2,1]\n",
        "simetrica(l2)"
      ],
      "metadata": {
        "colab": {
          "base_uri": "https://localhost:8080/"
        },
        "id": "EWZR9Om8nUkl",
        "outputId": "e3aa85a4-b808-4d56-8176-335791fca36c"
      },
      "execution_count": null,
      "outputs": [
        {
          "output_type": "execute_result",
          "data": {
            "text/plain": [
              "(False, None)"
            ]
          },
          "metadata": {},
          "execution_count": 117
        }
      ]
    },
    {
      "cell_type": "markdown",
      "source": [
        "**Exercici 5**\n",
        "\n",
        "Crea una funció que donada una llista , et digui quants números coincideixen amb la seva posició"
      ],
      "metadata": {
        "id": "8ftb2zK4n5f4"
      }
    },
    {
      "cell_type": "code",
      "source": [
        "def coincidencies(llista):\n",
        "    count = 0\n",
        "    for i in range(len(llista)):\n",
        "        if llista[i] == i:\n",
        "            count += 1\n",
        "    return count"
      ],
      "metadata": {
        "id": "qz5a1lc_n80Z"
      },
      "execution_count": null,
      "outputs": []
    },
    {
      "cell_type": "code",
      "source": [
        "l1 = [0, 3, 2, 4, 5, 7, 6]\n",
        "print('La quantitat de números que coincideixen amb la possició de la llista és: ', coincidencies(l1))"
      ],
      "metadata": {
        "colab": {
          "base_uri": "https://localhost:8080/"
        },
        "id": "oRrdA9hmoWE5",
        "outputId": "99cb1843-cdd8-4e2e-f8a8-7cc2ff1e9c4f"
      },
      "execution_count": null,
      "outputs": [
        {
          "output_type": "stream",
          "name": "stdout",
          "text": [
            "La quantitat de números que coincideixen amb la possició de la llista és:  3\n"
          ]
        }
      ]
    }
  ]
}