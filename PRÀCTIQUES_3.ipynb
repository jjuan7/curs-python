{
  "nbformat": 4,
  "nbformat_minor": 0,
  "metadata": {
    "colab": {
      "provenance": []
    },
    "kernelspec": {
      "name": "python3",
      "display_name": "Python 3"
    },
    "language_info": {
      "name": "python"
    }
  },
  "cells": [
    {
      "cell_type": "markdown",
      "source": [
        "**EXERCICI 1**"
      ],
      "metadata": {
        "id": "fsYji5BWXPpk"
      }
    },
    {
      "cell_type": "code",
      "execution_count": 28,
      "metadata": {
        "colab": {
          "base_uri": "https://localhost:8080/"
        },
        "id": "-IAv-1n8UMlK",
        "outputId": "a1ab944c-f604-4400-bdf1-8d7cf3c3f705"
      },
      "outputs": [
        {
          "output_type": "execute_result",
          "data": {
            "text/plain": [
              "array([[5.1, 3.5, 1.4, 0.2],\n",
              "       [4.9, 3. , 1.4, 0.2],\n",
              "       [4.7, 3.2, 1.3, 0.2],\n",
              "       [4.6, 3.1, 1.5, 0.2],\n",
              "       [5. , 3.6, 1.4, 0.2],\n",
              "       [5.4, 3.9, 1.7, 0.4],\n",
              "       [4.6, 3.4, 1.4, 0.3],\n",
              "       [5. , 3.4, 1.5, 0.2],\n",
              "       [4.4, 2.9, 1.4, 0.2],\n",
              "       [4.9, 3.1, 1.5, 0.1]])"
            ]
          },
          "metadata": {},
          "execution_count": 28
        }
      ],
      "source": [
        "import numpy as np\n",
        "from sklearn.datasets import load_iris\n",
        "iris = load_iris()\n",
        "iris.data[:10]"
      ]
    },
    {
      "cell_type": "code",
      "source": [
        "iris.target[:10]"
      ],
      "metadata": {
        "colab": {
          "base_uri": "https://localhost:8080/"
        },
        "id": "azZ_h9RbXMri",
        "outputId": "0c7d8ca5-b486-4548-94d2-8d49c449f71c"
      },
      "execution_count": 27,
      "outputs": [
        {
          "output_type": "execute_result",
          "data": {
            "text/plain": [
              "array([0, 0, 0, 0, 0, 0, 0, 0, 0, 0])"
            ]
          },
          "metadata": {},
          "execution_count": 27
        }
      ]
    },
    {
      "cell_type": "markdown",
      "source": [
        "**EXERCICI 2**"
      ],
      "metadata": {
        "id": "3KnzwdP_XnEI"
      }
    },
    {
      "cell_type": "code",
      "source": [
        "iris_data_target = np.concatenate((iris.data, iris.target.reshape(-1, 1)), axis=1)\n",
        "print(iris_data_target[:5])"
      ],
      "metadata": {
        "colab": {
          "base_uri": "https://localhost:8080/"
        },
        "id": "jnwcF7dtXqbF",
        "outputId": "fb7201c1-cc29-489f-cd49-9b05502b381f"
      },
      "execution_count": 15,
      "outputs": [
        {
          "output_type": "stream",
          "name": "stdout",
          "text": [
            "[[5.1 3.5 1.4 0.2 0. ]\n",
            " [4.9 3.  1.4 0.2 0. ]\n",
            " [4.7 3.2 1.3 0.2 0. ]\n",
            " [4.6 3.1 1.5 0.2 0. ]\n",
            " [5.  3.6 1.4 0.2 0. ]]\n"
          ]
        }
      ]
    },
    {
      "cell_type": "markdown",
      "source": [
        "**EXERCICI 3**\n",
        "\n",
        "Calcula la mitjana i desviació estàndard de la longitud del sèpal (\"sepal length (cm)\") i la longitud del pètal (\"petal length (cm)\"). Mostra els resultats amb dos decimals."
      ],
      "metadata": {
        "id": "vYv23EvxYRJg"
      }
    },
    {
      "cell_type": "code",
      "source": [
        "sepal_mitjana = np.mean(iris.data[:, 0])\n",
        "sepal_desviacio = np.std(iris.data[:, 0])\n",
        "petal_mitjana = np.mean(iris.data[:, 2])\n",
        "petal_desviacio = np.std(iris.data[:, 2])\n",
        "\n",
        "# Display the results with two decimal places\n",
        "print(\"Longitud Sepal  (cm) - Mitjana: {:.2f}, Desviació estàndar: {:.2f}\".format(sepal_mitjana, sepal_desviacio))\n",
        "print(\"Longitud Petal (cm) - Mitjana: {:.2f}, Desviació estàndar: {:.2f}\".format(petal_mitjana, petal_desviacio))"
      ],
      "metadata": {
        "colab": {
          "base_uri": "https://localhost:8080/"
        },
        "id": "YlSXFkTLZ_dL",
        "outputId": "52d5f3ab-67fa-47ab-f43b-63ff1eb69ace"
      },
      "execution_count": 29,
      "outputs": [
        {
          "output_type": "stream",
          "name": "stdout",
          "text": [
            "Longitud Sepal  (cm) - Mitjana: 5.84, Desviació estàndar: 0.83\n",
            "Longitud Petal (cm) - Mitjana: 3.76, Desviació estàndar: 1.76\n"
          ]
        }
      ]
    },
    {
      "cell_type": "markdown",
      "source": [
        "**EXERCICI 4**\n",
        "\n",
        "Selecciona una mostra aleatòria de 20 registres del conjunt que has obtingut en l'exercici anterior. La utilitzaràs d'aquí endavant."
      ],
      "metadata": {
        "id": "H1zYCDZBp1GB"
      }
    },
    {
      "cell_type": "code",
      "source": [
        "iris_data_target = np.concatenate((iris.data, iris.target.reshape(-1, 1)), axis=1)\n",
        "random_sample = np.random.choice(iris_data_target.shape[0], size=20, replace=False)\n",
        "sample_data_target = iris_data_target[random_sample]\n",
        "sample_data_target"
      ],
      "metadata": {
        "colab": {
          "base_uri": "https://localhost:8080/"
        },
        "id": "6AVkKDd6p_Xd",
        "outputId": "365b76df-165b-4e1c-b53d-a6809a9d6b87"
      },
      "execution_count": 30,
      "outputs": [
        {
          "output_type": "execute_result",
          "data": {
            "text/plain": [
              "array([[5. , 3.2, 1.2, 0.2, 0. ],\n",
              "       [6.1, 3. , 4.6, 1.4, 1. ],\n",
              "       [4.4, 3.2, 1.3, 0.2, 0. ],\n",
              "       [5.6, 2.8, 4.9, 2. , 2. ],\n",
              "       [6.1, 2.8, 4. , 1.3, 1. ],\n",
              "       [5.1, 3.3, 1.7, 0.5, 0. ],\n",
              "       [5.5, 3.5, 1.3, 0.2, 0. ],\n",
              "       [5.9, 3. , 4.2, 1.5, 1. ],\n",
              "       [5.7, 2.5, 5. , 2. , 2. ],\n",
              "       [4.9, 3.1, 1.5, 0.1, 0. ],\n",
              "       [5.7, 4.4, 1.5, 0.4, 0. ],\n",
              "       [6.8, 3.2, 5.9, 2.3, 2. ],\n",
              "       [6.1, 2.6, 5.6, 1.4, 2. ],\n",
              "       [6.3, 2.3, 4.4, 1.3, 1. ],\n",
              "       [7.2, 3. , 5.8, 1.6, 2. ],\n",
              "       [4.4, 2.9, 1.4, 0.2, 0. ],\n",
              "       [6.9, 3.1, 4.9, 1.5, 1. ],\n",
              "       [4.6, 3.6, 1. , 0.2, 0. ],\n",
              "       [5.7, 3. , 4.2, 1.2, 1. ],\n",
              "       [5.5, 2.3, 4. , 1.3, 1. ]])"
            ]
          },
          "metadata": {},
          "execution_count": 30
        }
      ]
    },
    {
      "cell_type": "markdown",
      "source": [
        "**EXERCICI 5**\n",
        "\n",
        "Crea una matriu que mostri:\n",
        "*   La mitjana de cada característica per espècie.(mean)\n",
        "*   La desviació estàndard de cada característica per espècie. (std)\n",
        "\n"
      ],
      "metadata": {
        "id": "bTuSlmOuqTRU"
      }
    },
    {
      "cell_type": "code",
      "source": [
        "iris_data_target.mean(axis=1)"
      ],
      "metadata": {
        "colab": {
          "base_uri": "https://localhost:8080/"
        },
        "id": "CAz7eINYqoID",
        "outputId": "cb068597-2005-4157-f5d0-7b5305c1e322"
      },
      "execution_count": 41,
      "outputs": [
        {
          "output_type": "execute_result",
          "data": {
            "text/plain": [
              "array([2.04, 1.9 , 1.88, 1.88, 2.04, 2.28, 1.94, 2.02, 1.78, 1.92, 2.16,\n",
              "       2.  , 1.86, 1.7 , 2.24, 2.4 , 2.2 , 2.06, 2.3 , 2.14, 2.14, 2.14,\n",
              "       1.88, 2.12, 2.06, 1.96, 2.08, 2.08, 2.04, 1.94, 1.94, 2.14, 2.18,\n",
              "       2.26, 1.94, 1.92, 2.1 , 2.  , 1.78, 2.04, 2.02, 1.68, 1.82, 2.14,\n",
              "       2.24, 1.9 , 2.14, 1.88, 2.14, 1.98, 3.46, 3.32, 3.48, 2.82, 3.28,\n",
              "       3.06, 3.38, 2.52, 3.28, 2.84, 2.5 , 3.12, 2.84, 3.22, 2.88, 3.32,\n",
              "       3.12, 2.92, 3.08, 2.82, 3.34, 3.04, 3.24, 3.16, 3.18, 3.28, 3.36,\n",
              "       3.48, 3.18, 2.76, 2.76, 2.72, 2.92, 3.28, 3.08, 3.3 , 3.4 , 3.06,\n",
              "       3.  , 2.86, 2.94, 3.22, 2.92, 2.52, 2.96, 3.02, 3.02, 3.14, 2.54,\n",
              "       2.98, 4.02, 3.5 , 4.02, 3.72, 3.9 , 4.26, 3.12, 4.06, 3.76, 4.28,\n",
              "       3.76, 3.66, 3.88, 3.44, 3.62, 3.84, 3.76, 4.48, 4.3 , 3.34, 4.02,\n",
              "       3.46, 4.24, 3.54, 3.96, 4.04, 3.52, 3.56, 3.78, 3.92, 4.04, 4.42,\n",
              "       3.8 , 3.54, 3.54, 4.22, 3.94, 3.76, 3.52, 3.9 , 3.96, 3.88, 3.5 ,\n",
              "       4.04, 4.04, 3.84, 3.54, 3.74, 3.86, 3.56])"
            ]
          },
          "metadata": {},
          "execution_count": 41
        }
      ]
    },
    {
      "cell_type": "code",
      "source": [
        "iris_data_target.std(axis=1)"
      ],
      "metadata": {
        "colab": {
          "base_uri": "https://localhost:8080/"
        },
        "id": "j5ftONRotEt_",
        "outputId": "57f57120-f8b7-4b16-c956-c5667d510a90"
      },
      "execution_count": 42,
      "outputs": [
        {
          "output_type": "execute_result",
          "data": {
            "text/plain": [
              "array([1.97240969, 1.84173831, 1.81041432, 1.75430898, 1.95714077,\n",
              "       2.07016908, 1.78616908, 1.92083315, 1.66901168, 1.86804711,\n",
              "       2.08863592, 1.8547237 , 1.82822318, 1.68878655, 2.28175371,\n",
              "       2.25654603, 2.09857094, 1.95407267, 2.16610249, 1.99459269,\n",
              "       2.03725305, 1.96020407, 1.87018716, 1.87445992, 1.84564352,\n",
              "       1.86504692, 1.87872297, 1.99739831, 1.98957282, 1.79510445,\n",
              "       1.81284307, 2.01156655, 2.11414285, 2.20689828, 1.84889156,\n",
              "       1.91248529, 2.10618138, 1.9462785 , 1.68807583, 1.95202459,\n",
              "       1.93018134, 1.62529997, 1.71860408, 1.85860162, 1.95611861,\n",
              "       1.79108905, 2.00758561, 1.77358394, 2.05776578, 1.91248529,\n",
              "       2.2105203 , 1.9792928 , 2.18760143, 1.70105849, 2.03509214,\n",
              "       1.81394597, 1.9548913 , 1.47702404, 2.09895212, 1.56025639,\n",
              "       1.54919334, 1.79041895, 1.92416216, 1.9405154 , 1.67020957,\n",
              "       2.08365064, 1.74287119, 1.84975674, 1.96712989, 1.74745529,\n",
              "       1.81945047, 1.87253838, 2.03528868, 1.98252364, 1.99939991,\n",
              "       2.05367962, 2.17402852, 2.10845915, 1.86268623, 1.75567651,\n",
              "       1.70716139, 1.71510933, 1.78594513, 1.95284408, 1.68689063,\n",
              "       1.83956517, 2.09952376, 2.01057206, 1.72394896, 1.69068034,\n",
              "       1.7658992 , 1.92291445, 1.80044439, 1.5118201 , 1.74195293,\n",
              "       1.78706463, 1.76793665, 1.93556193, 1.49746452, 1.7565876 ,\n",
              "       1.79041895, 1.63095064, 2.08940183, 1.87125626, 1.88042548,\n",
              "       2.36609383, 1.32121157, 2.28962879, 2.06552657, 2.03312567,\n",
              "       1.77831381, 1.84238975, 1.93018134, 1.58568597, 1.53153518,\n",
              "       1.72348484, 1.90010526, 2.32843295, 2.46981781, 1.8062115 ,\n",
              "       1.9405154 , 1.50678466, 2.45487271, 1.76476627, 1.9116485 ,\n",
              "       2.17770521, 1.70926885, 1.6788091 , 1.85083765, 2.20036361,\n",
              "       2.27209155, 2.37183473, 1.83303028, 1.85105375, 1.93038856,\n",
              "       2.26927301, 1.71767284, 1.86397425, 1.63266653, 1.93597521,\n",
              "       1.85537058, 1.85730988, 1.63095064, 1.94792197, 1.83913023,\n",
              "       1.81614977, 1.78280678, 1.80842473, 1.67044904, 1.65481117])"
            ]
          },
          "metadata": {},
          "execution_count": 42
        }
      ]
    },
    {
      "cell_type": "markdown",
      "source": [
        "**EXERCICI 6**\n",
        "\n",
        "Calcula la quantitat de mostres per espècie.\n",
        "\n",
        "Troba l'espècie amb el valor màxim mitjana de la variable \"sepal length (cm)\"\n",
        "\n",
        "```\n",
        "\n",
        "```\n",
        "\n"
      ],
      "metadata": {
        "id": "XZiCS1hltNTK"
      }
    },
    {
      "cell_type": "code",
      "source": [
        "especies = np.unique(iris_data_target[:, -1])\n",
        "a=len(especies)\n",
        "a"
      ],
      "metadata": {
        "colab": {
          "base_uri": "https://localhost:8080/"
        },
        "id": "pWgkaGCc0zrJ",
        "outputId": "972261c1-31ef-4108-efc3-31465fbe6791"
      },
      "execution_count": 46,
      "outputs": [
        {
          "output_type": "execute_result",
          "data": {
            "text/plain": [
              "3"
            ]
          },
          "metadata": {},
          "execution_count": 46
        }
      ]
    },
    {
      "cell_type": "code",
      "source": [
        "np.max(iris_data_target)"
      ],
      "metadata": {
        "colab": {
          "base_uri": "https://localhost:8080/"
        },
        "id": "mqMMJsUttW1s",
        "outputId": "391d5ea2-b0f3-4f20-850d-2bea4dd58b2b"
      },
      "execution_count": 43,
      "outputs": [
        {
          "output_type": "execute_result",
          "data": {
            "text/plain": [
              "7.9"
            ]
          },
          "metadata": {},
          "execution_count": 43
        }
      ]
    },
    {
      "cell_type": "markdown",
      "source": [
        "**EXERCICI 7**\n",
        "\n",
        "Calcula la matriu de correlació entre les variables.\n",
        "\n",
        "Filtra els valors majors a la mitjana (de l'exercici 3) de la longitud dels pètals i mostra-ho.\n",
        "\n",
        "Troba la mostra amb els pètals més llargs."
      ],
      "metadata": {
        "id": "-E55vmWV1LOC"
      }
    },
    {
      "cell_type": "code",
      "source": [
        "np.corrcoef(iris_data_target)"
      ],
      "metadata": {
        "colab": {
          "base_uri": "https://localhost:8080/"
        },
        "id": "-DUuA5j61fX0",
        "outputId": "4455655f-b7b7-459d-ffdb-601c816e5fb4"
      },
      "execution_count": 47,
      "outputs": [
        {
          "output_type": "execute_result",
          "data": {
            "text/plain": [
              "array([[1.        , 0.99706483, 0.99997795, ..., 0.73911793, 0.73861621,\n",
              "        0.72169879],\n",
              "       [0.99706483, 1.        , 0.99750791, ..., 0.78062955, 0.77554908,\n",
              "        0.76056628],\n",
              "       [0.99997795, 0.99750791, 1.        , ..., 0.74245616, 0.74174869,\n",
              "        0.72472528],\n",
              "       ...,\n",
              "       [0.73911793, 0.78062955, 0.74245616, ..., 1.        , 0.99295525,\n",
              "        0.99565547],\n",
              "       [0.73861621, 0.77554908, 0.74174869, ..., 0.99295525, 1.        ,\n",
              "        0.99497962],\n",
              "       [0.72169879, 0.76056628, 0.72472528, ..., 0.99565547, 0.99497962,\n",
              "        1.        ]])"
            ]
          },
          "metadata": {},
          "execution_count": 47
        }
      ]
    },
    {
      "cell_type": "code",
      "source": [
        "iris_data_target = np.concatenate((iris.data, iris.target.reshape(-1, 1)), axis=1)\n",
        "mitjana = np.mean(iris_data_target[:, 2])\n",
        "a=iris_data_target[iris_data_target[:, 2] > mitjana]\n",
        "a\n",
        "\n"
      ],
      "metadata": {
        "id": "bat7GBwf2UPZ"
      },
      "execution_count": null,
      "outputs": []
    },
    {
      "cell_type": "code",
      "source": [
        "iris_data_target = np.concatenate((iris.data, iris.target.reshape(-1, 1)), axis=1)\n",
        "sorted_by_petal_length = iris_data_target[np.argsort(iris_data_target[:, 2])]\n",
        "petals_llargs= sorted_by_petal_length[-5:]\n"
      ],
      "metadata": {
        "id": "5PQzdhoD4ONP"
      },
      "execution_count": 58,
      "outputs": []
    }
  ]
}